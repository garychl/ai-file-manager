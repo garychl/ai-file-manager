{
 "nbformat": 4,
 "nbformat_minor": 2,
 "metadata": {
  "language_info": {
   "name": "python",
   "codemirror_mode": {
    "name": "ipython",
    "version": 3
   },
   "version": "3.7.3-final"
  },
  "orig_nbformat": 2,
  "file_extension": ".py",
  "mimetype": "text/x-python",
  "name": "python",
  "npconvert_exporter": "python",
  "pygments_lexer": "ipython3",
  "version": 3,
  "kernelspec": {
   "name": "python37364bit5ce3cc1b499e4d87a51fccfeb2f255f2",
   "display_name": "Python 3.7.3 64-bit"
  }
 },
 "cells": [
  {
   "cell_type": "code",
   "execution_count": 1,
   "metadata": {},
   "outputs": [],
   "source": [
    "import os\n",
    "import sys\n",
    "sys.path.append('..')\n",
    "import yaml\n",
    "import utils.arxiv_parser as ax\n",
    "from pymongo import MongoClient\n",
    "from pprint import pprint"
   ]
  },
  {
   "cell_type": "code",
   "execution_count": 2,
   "metadata": {},
   "outputs": [],
   "source": [
    "def read_yaml_input(input):\n",
    "    if type(input) == str:\n",
    "        with open(input, 'r', newline='') as f:\n",
    "            try:\n",
    "                config = yaml.safe_load(f)\n",
    "            except yaml.YAMLError as ymlexcp:\n",
    "                print(ymlexcp)\n",
    "    elif type(input) == dict:\n",
    "        config = input\n",
    "    else:\n",
    "        raise Exception(\"Only accept dict or path of the .yaml file.\")\n",
    "    return config"
   ]
  },
  {
   "cell_type": "code",
   "execution_count": 3,
   "metadata": {},
   "outputs": [],
   "source": [
    "# db_dir = os.path.join('../data', 'db_name')\n",
    "# if not os.path.isdir(db_dir):\n",
    "#             print('Creating a new directory: {}'.format(db_dir))\n",
    "#             os.mkdir(db_dir)\n"
   ]
  },
  {
   "cell_type": "code",
   "execution_count": 4,
   "metadata": {},
   "outputs": [],
   "source": [
    "def scrape_arxiv(criterion):\n",
    "    if type(criterion) != dict:\n",
    "        raise Exception(\"criterion is a dict.\")\n",
    "    print('Fetching the data with the criterion:\\n{}'.format(criterion))\n",
    "    scraper = ax.Scraper2(**criterion)\n",
    "    documents = scraper.scrape()    # list of dict\n",
    "    print('Completed downloading. Downloaded {} documents.'.format(len(documents)))\n",
    "    return documents"
   ]
  },
  {
   "cell_type": "code",
   "execution_count": 5,
   "metadata": {},
   "outputs": [
    {
     "name": "stdout",
     "output_type": "stream",
     "text": "Fetching the data with the criterion:\n{'category': 'stat', 'date_from': '2015-01-01', 'date_until': '2015-01-31', 't': 10, 'filters': {'categories': ['stat.ml']}}\nhttp://export.arxiv.org/oai2?verb=ListRecords&from=2020-01-01&until=2020-01-12&metadataPrefix=arXiv&set=stat\nfetching up to  1000 records...\nfetching is completed in 13.0 seconds.\nTotal number of records 817\nCompleted downloading. Downloaded 817 documents.\n"
    }
   ],
   "source": [
    "criterion={'category': 'stat', 'date_from': '2015-01-01', 'date_until': '2015-01-31', 't': 10, 'filters': {'categories': ['stat.ml']}}\n",
    "documents = scrape_arxiv(criterion)"
   ]
  },
  {
   "cell_type": "code",
   "execution_count": 6,
   "metadata": {},
   "outputs": [
    {
     "data": {
      "text/plain": "{'title': 'exchangeable random networks',\n 'id': '0707.3545',\n 'abstract': 'we introduce and study a class of exchangeable random graph ensembles. they can be used as statistical null models for empirical networks, and as a tool for theoretical investigations. we provide general theorems that carachterize the degree distribution of the ensemble graphs, together with some features that are important for applications, such as subgraph distributions and kernel of the adjacency matrix. these results are used to compare to other models of simple and complex networks. a particular case of directed networks with power-law out--degree is studied in more detail, as an example of the flexibility of the model in applications.',\n 'categories': 'math.pr math.st stat.th',\n 'doi': '10.1080/15427951.2007.10129152',\n 'created': '2007-07-24',\n 'updated': '2008-08-12',\n 'authors': ['f. bassetti', 'm. cosentino lagomarsino', 's. mandrá'],\n 'affiliation': [],\n 'url': 'https://arxiv.org/abs/0707.3545'}"
     },
     "execution_count": 6,
     "metadata": {},
     "output_type": "execute_result"
    }
   ],
   "source": [
    "documents[0]"
   ]
  },
  {
   "cell_type": "code",
   "execution_count": 7,
   "metadata": {},
   "outputs": [],
   "source": [
    "# import pickle\n",
    "\n",
    "# def save_doc(doc, dir, file_name=None):\n",
    "#     try:\n",
    "#         file_name = doc['id']\n",
    "#     except KeyError:\n",
    "#         file_name = file_name\n",
    "#     except:\n",
    "#         assert doc_name != None, \"Please provide a file name for doc:/n{}\".format(doc)\n",
    "\n",
    "#     file_name = file_name + '.pkl'\n",
    "#     with open(os.path.join(dir, file_name), 'wb') as f:\n",
    "#         pickle.dump(doc, f, pickle.HIGHEST_PROTOCOL)"
   ]
  },
  {
   "cell_type": "code",
   "execution_count": 15,
   "metadata": {},
   "outputs": [],
   "source": [
    "del FileSystemDriver"
   ]
  },
  {
   "cell_type": "code",
   "execution_count": 16,
   "metadata": {},
   "outputs": [],
   "source": [
    "from download_arxiv import FileSystemDriver"
   ]
  },
  {
   "cell_type": "code",
   "execution_count": 17,
   "metadata": {},
   "outputs": [],
   "source": [
    "fs = FileSystemDriver(None)"
   ]
  },
  {
   "cell_type": "code",
   "execution_count": 1,
   "metadata": {},
   "outputs": [],
   "source": [
    "fs.insert_many('Par','sub',documents[:3])"
   ]
  },
  {
   "source": [
    "'cs213'.replace(\"/\", \"_\")"
   ],
   "cell_type": "code",
   "outputs": [
    {
     "output_type": "execute_result",
     "data": {
      "text/plain": "'cs213'"
     },
     "metadata": {},
     "execution_count": 5
    }
   ],
   "metadata": {},
   "execution_count": 5
  },
  {
   "cell_type": "code",
   "execution_count": null,
   "metadata": {},
   "outputs": [],
   "source": []
  }
 ]
}
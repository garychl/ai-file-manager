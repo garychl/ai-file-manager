{
 "nbformat": 4,
 "nbformat_minor": 2,
 "metadata": {
  "language_info": {
   "name": "python",
   "codemirror_mode": {
    "name": "ipython",
    "version": 3
   }
  },
  "orig_nbformat": 2,
  "file_extension": ".py",
  "mimetype": "text/x-python",
  "name": "python",
  "npconvert_exporter": "python",
  "pygments_lexer": "ipython3",
  "version": 3
 },
 "cells": [
  {
   "cell_type": "markdown",
   "execution_count": null,
   "metadata": {},
   "outputs": [],
   "source": [
    "not using class"
   ]
  },
  {
   "cell_type": "code",
   "execution_count": null,
   "metadata": {},
   "outputs": [],
   "source": [
    "if __name__ == '__main__':\n",
    "\n",
    "    with open('./config.yaml', 'r', newline='') as f:\n",
    "        try:\n",
    "            config = yaml.safe_load(f)\n",
    "        except yaml.YAMLError as ymlexcp:\n",
    "            print(ymlexcp)r\n",
    "\n",
    "    env = config['runtime']['env']\n",
    "    client = MongoClient(config['database']['mongo'][env]['connection_string'])\n",
    "    print('Using {} environment'.format(env))\n",
    "    db = client.researchPaperTest\n",
    "    mongo_collection = db.aiPaperTest\n",
    "\n",
    "    criteria = config['dataset']['download']['criteria']\n",
    "    for criterion in criteria:\n",
    "        print('Fetching the data with the criterion:\\n{}'.format(criterion))\n",
    "        scraper = ax.Scraper2(**criterion)\n",
    "        documents = scraper.scrape()\n",
    "        print('Completed downloading. Downloaded {} documents.'.format(len(documents)))\n",
    "        print('Inserting into mongodb...')\n",
    "        mongo_collection.insert_many(documents)\n",
    "        print('Finished insertion.')\n",
    "\n",
    "    print('Done.')"
   ]
  },
  {
   "cell_type": "markdown",
   "execution_count": null,
   "metadata": {},
   "outputs": [],
   "source": [
    "class, with creation open "
   ]
  },
  {
   "cell_type": "code",
   "execution_count": null,
   "metadata": {},
   "outputs": [],
   "source": [
    "class MongoDrier():\n",
    "    def __init__(self, config_path=None, connection_string=None):\n",
    "        if config_path is not None:\n",
    "            self.config = read_yaml_input(config_path)\n",
    "            env = self.config['runtime']['env']\n",
    "            print('Using {} environment'.format(env))\n",
    "            self.client = MongoClient(self.config['database']['mongo'][env]['connection_string'])\n",
    "        else:\n",
    "            self.client = MongoClient(connection_string)\n",
    "\n",
    "    def create_db(self, db_name):\n",
    "        return getattr(self.client, db_name)\n",
    "\n",
    "    def create_collection(self, db_name, collection_name):\n",
    "        db_obj = self.create_db(db_name)\n",
    "        return getattr(db_obj, collection_name)\n",
    "\n",
    "    def insert_many(self, db_name, collection_name, documents_list):\n",
    "        if self.config is not None:\n",
    "            env = self.config['runtime']['env']\n",
    "            db_name = self.config['database']['mongo'][env]['db_name']\n",
    "            collection_name = self.config['database']['mongo'][env]['collection_name']\n",
    "\n",
    "        collection = self.create_collection(db_name, collection_name)\n",
    "        print('Inserting into mongodb...')\n",
    "        for documents in documents_list:\n",
    "            collection.insert_many(documents)\n",
    "        print('Finished insertion.') "
   ]
  }
 ]
}